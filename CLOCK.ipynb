{
 "cells": [
  {
   "cell_type": "code",
   "execution_count": 1,
   "id": "cf1bd38b",
   "metadata": {},
   "outputs": [
    {
     "name": "stdout",
     "output_type": "stream",
     "text": [
      "DATE:19-03-23\n",
      "TIME:07:29:35 AM\n",
      "Good Morning!\n"
     ]
    }
   ],
   "source": [
    "from pytz import timezone\n",
    "from datetime import datetime\n",
    "\n",
    "time=datetime.now(timezone(\"Asia/Kolkata\"))\n",
    "\n",
    "ind_time = time.strftime('DATE:%d-%m-%y\\nTIME:%H:%M:%S %p')\n",
    "print(ind_time)\n",
    "\n",
    "H = int(time.strftime('%H'))\n",
    "M = int(time.strftime('%M'))\n",
    "S = int(time.strftime('%S'))\n",
    "\n",
    "if (H>=22 or H<4):\n",
    "  print('Good Night!')\n",
    "\n",
    "elif (H>=18):\n",
    "  print('Good Evening!')\n",
    "\n",
    "elif (H>=12):\n",
    "  print('Good Afternoon!')\n",
    "\n",
    "else: \n",
    "  print('Good Morning!')"
   ]
  },
  {
   "cell_type": "code",
   "execution_count": null,
   "id": "a0fd5ede",
   "metadata": {},
   "outputs": [],
   "source": []
  }
 ],
 "metadata": {
  "kernelspec": {
   "display_name": "Python 3 (ipykernel)",
   "language": "python",
   "name": "python3"
  },
  "language_info": {
   "codemirror_mode": {
    "name": "ipython",
    "version": 3
   },
   "file_extension": ".py",
   "mimetype": "text/x-python",
   "name": "python",
   "nbconvert_exporter": "python",
   "pygments_lexer": "ipython3",
   "version": "3.9.13"
  }
 },
 "nbformat": 4,
 "nbformat_minor": 5
}
